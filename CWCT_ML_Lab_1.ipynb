{
  "nbformat": 4,
  "nbformat_minor": 0,
  "metadata": {
    "colab": {
      "provenance": [],
      "authorship_tag": "ABX9TyNCFjeHou2uv7ZTOl27bz2F",
      "include_colab_link": true
    },
    "kernelspec": {
      "name": "python3",
      "display_name": "Python 3"
    },
    "language_info": {
      "name": "python"
    }
  },
  "cells": [
    {
      "cell_type": "markdown",
      "metadata": {
        "id": "view-in-github",
        "colab_type": "text"
      },
      "source": [
        "<a href=\"https://colab.research.google.com/github/emuhs/cwct_ml/blob/main/CWCT_ML_Lab_1.ipynb\" target=\"_parent\"><img src=\"https://colab.research.google.com/assets/colab-badge.svg\" alt=\"Open In Colab\"/></a>"
      ]
    },
    {
      "cell_type": "code",
      "execution_count": 2,
      "metadata": {
        "colab": {
          "base_uri": "https://localhost:8080/"
        },
        "id": "lTxYBcWEzJIi",
        "outputId": "85a71eaa-bd67-4029-f865-79007e32c799"
      },
      "outputs": [
        {
          "output_type": "stream",
          "name": "stdout",
          "text": [
            "[17, 15, 4]\n",
            "[10, 12, 9]\n",
            "[11, 13, 18]\n"
          ]
        }
      ],
      "source": [
        "def matrix_add(A, B):\n",
        "    rows_A, cols_A = len(A), len(A[0])\n",
        "    rows_B, cols_B = len(B), len(B[0])\n",
        "\n",
        "    if rows_A != rows_B or cols_A != cols_B:\n",
        "        raise ValueError(\"Matrices must have the same dimensions for addition.\")\n",
        "\n",
        "    result = [[0 for _ in range(cols_A)] for _ in range(rows_A)]\n",
        "\n",
        "    for i in range(rows_A):\n",
        "        for j in range(cols_A):\n",
        "            result[i][j] = A[i][j] + B[i][j]\n",
        "\n",
        "    return result\n",
        "\n",
        "\n",
        "X = [[12,7,3],\n",
        "    [4 ,5,6],\n",
        "    [7 ,8,9]]\n",
        "\n",
        "Y = [[5,8,1],\n",
        "    [6,7,3],\n",
        "    [4,5,9]]\n",
        "res = matrix_add(X, Y)\n",
        "for r in res:\n",
        "    print(r)\n"
      ]
    },
    {
      "cell_type": "code",
      "source": [
        "def matrix_subtraction(A, B):\n",
        "    rows_A, cols_A = len(A), len(A[0])\n",
        "    rows_B, cols_B = len(B), len(B[0])\n",
        "\n",
        "    if rows_A != rows_B or cols_A != cols_B:\n",
        "        raise ValueError(\"Matrices must have the same dimensions for subtraction.\")\n",
        "\n",
        "    result = [[0 for _ in range(cols_A)] for _ in range(rows_A)]\n",
        "\n",
        "    for i in range(rows_A):\n",
        "        for j in range(cols_A):\n",
        "            result[i][j] = A[i][j] - B[i][j]\n",
        "\n",
        "    return result\n",
        "\n",
        "X = [[12,7,3],\n",
        "    [4 ,5,6],\n",
        "    [7 ,8,9]]\n",
        "\n",
        "Y = [[5,8,1],\n",
        "    [6,7,3],\n",
        "    [4,5,9]]\n",
        "res = matrix_subtraction(X, Y)\n",
        "for r in res:\n",
        "    print(r)\n",
        "\n"
      ],
      "metadata": {
        "colab": {
          "base_uri": "https://localhost:8080/"
        },
        "id": "-oIWbOERz2cJ",
        "outputId": "5903f392-5f18-4977-9e86-6c4f21ea687c"
      },
      "execution_count": 3,
      "outputs": [
        {
          "output_type": "stream",
          "name": "stdout",
          "text": [
            "[7, -1, 2]\n",
            "[-2, -2, 3]\n",
            "[3, 3, 0]\n"
          ]
        }
      ]
    },
    {
      "cell_type": "code",
      "source": [
        "def matrix_mult(A, B):\n",
        "    # Get the dimensions of the matrices\n",
        "    rows_A, cols_A = len(A), len(A[0])\n",
        "    rows_B, cols_B = len(B), len(B[0])\n",
        "\n",
        "    if cols_A != rows_B:\n",
        "        raise ValueError(\"Number of columns in A must equal number of rows in B.\")\n",
        "\n",
        "    # Create the result matrix\n",
        "    result = [[0 for _ in range(cols_B)] for _ in range(rows_A)]\n",
        "\n",
        "    # Perform matrix multiplication\n",
        "    for i in range(rows_A):\n",
        "        for j in range(cols_B):\n",
        "            for k in range(cols_A):\n",
        "                result[i][j] += A[i][k] * B[k][j]\n",
        "\n",
        "    return result\n",
        "\n",
        "A = [[1, 7, 3],\n",
        "     [3, 5, 6],\n",
        "     [6, 8, 9]]\n",
        "B = [[1, 1, 1, 2],\n",
        "     [6, 7, 3, 0],\n",
        "     [4, 5, 9, 1]]\n",
        "res = matrix_mult(A,B)\n",
        "for r in res:\n",
        "  print(r)"
      ],
      "metadata": {
        "colab": {
          "base_uri": "https://localhost:8080/"
        },
        "id": "R8IYBgHX0hQ7",
        "outputId": "d1ecae60-d38e-41be-d1c0-51e68ddd8559"
      },
      "execution_count": 4,
      "outputs": [
        {
          "output_type": "stream",
          "name": "stdout",
          "text": [
            "[55, 65, 49, 5]\n",
            "[57, 68, 72, 12]\n",
            "[90, 107, 111, 21]\n"
          ]
        }
      ]
    },
    {
      "cell_type": "code",
      "source": [
        "def transpose_matrix(matrix):\n",
        "    return list(map(list, zip(*matrix)))\n",
        "\n",
        "def minor(matrix, i, j):\n",
        "    return [row[:j] + row[j+1:] for row in (matrix[:i] + matrix[i+1:])]\n",
        "\n",
        "def determinant(matrix):\n",
        "    if len(matrix) == 1:\n",
        "        return matrix[0][0]\n",
        "    det = 0\n",
        "    for j in range(len(matrix)):\n",
        "        det += ((-1)**j) * matrix[0][j] * determinant(minor(matrix, 0, j))\n",
        "    return det\n",
        "\n",
        "def inverse_matrix(matrix):\n",
        "    n = len(matrix)\n",
        "    det_A = determinant(matrix)\n",
        "    if det_A == 0:\n",
        "        print(\"Matrix is not invertible (determinant is zero).\")\n",
        "        exit()\n",
        "    adjoint = []\n",
        "    for i in range(n):\n",
        "        row = []\n",
        "        for j in range(n):\n",
        "            cofactor = ((-1)**(i+j)) * determinant(minor(matrix, i, j))\n",
        "            row.append(cofactor / det_A)\n",
        "        adjoint.append(row)\n",
        "    return transpose_matrix(adjoint)\n",
        "\n",
        "def matrix_mult(A, B):\n",
        "    rows_A, cols_A = len(A), len(A[0])\n",
        "    rows_B, cols_B = len(B), len(B[0])\n",
        "    if cols_A != rows_B:\n",
        "        raise ValueError(\"Number of columns in A must equal number of rows in B.\")\n",
        "    result = [[0 for _ in range(cols_B)] for _ in range(rows_A)]\n",
        "    for i in range(rows_A):\n",
        "        for j in range(cols_B):\n",
        "            for k in range(cols_A):\n",
        "                result[i][j] += A[i][k] * B[k][j]\n",
        "    return result\n",
        "\n",
        "\n",
        "A = [[4, 4],\n",
        "     [2, -4]]\n",
        "\n",
        "b = [[5],\n",
        "     [1]]\n",
        "\n",
        "A_inv = inverse_matrix(A)\n",
        "x = matrix_mult(A_inv, b)\n",
        "\n",
        "for i in range(len(x)):\n",
        "    print(f\"x{i+1} = {x[i][0]}\")\n"
      ],
      "metadata": {
        "colab": {
          "base_uri": "https://localhost:8080/"
        },
        "id": "b16GDckQ10OL",
        "outputId": "2cab5015-07bd-48fd-843f-4a4b8cc01a02"
      },
      "execution_count": 5,
      "outputs": [
        {
          "output_type": "stream",
          "name": "stdout",
          "text": [
            "x1 = 0.9999999999999999\n",
            "x2 = 0.24999999999999997\n"
          ]
        }
      ]
    }
  ]
}