{
  "nbformat": 4,
  "nbformat_minor": 0,
  "metadata": {
    "colab": {
      "provenance": [],
      "toc_visible": true,
      "authorship_tag": "ABX9TyPCwNxJKj/0ILooq+vikNwP",
      "include_colab_link": true
    },
    "kernelspec": {
      "name": "python3",
      "display_name": "Python 3"
    },
    "language_info": {
      "name": "python"
    }
  },
  "cells": [
    {
      "cell_type": "markdown",
      "metadata": {
        "id": "view-in-github",
        "colab_type": "text"
      },
      "source": [
        "<a href=\"https://colab.research.google.com/github/emuhs/cwct_ml/blob/main/cwct_ml_lab2.ipynb\" target=\"_parent\"><img src=\"https://colab.research.google.com/assets/colab-badge.svg\" alt=\"Open In Colab\"/></a>"
      ]
    },
    {
      "cell_type": "code",
      "execution_count": 3,
      "metadata": {
        "colab": {
          "base_uri": "https://localhost:8080/"
        },
        "id": "5oJZV6J4wBvV",
        "outputId": "c8ed9d03-005f-4f40-b341-0a077e214bac"
      },
      "outputs": [
        {
          "output_type": "stream",
          "name": "stdout",
          "text": [
            "Drive already mounted at /content/drive; to attempt to forcibly remount, call drive.mount(\"/content/drive\", force_remount=True).\n",
            "drive  sample_data\n"
          ]
        }
      ],
      "source": [
        "from google.colab import drive\n",
        "drive.mount('/content/drive')"
      ]
    },
    {
      "cell_type": "code",
      "source": [
        "!ls /content/drive/MyDrive/cwct_ml/"
      ],
      "metadata": {
        "colab": {
          "base_uri": "https://localhost:8080/"
        },
        "id": "GutdXLnuxHLN",
        "outputId": "844a6857-8698-46e7-b9c1-a3f6b0ea924f"
      },
      "execution_count": 13,
      "outputs": [
        {
          "output_type": "stream",
          "name": "stdout",
          "text": [
            "lab2-hw.txt\t  lab2-quiz.txt     lab2-test.txt\n",
            "lab2-project.txt  lab2-T2-data.pkl  ML-lab2-data.zip\n"
          ]
        }
      ]
    },
    {
      "cell_type": "code",
      "source": [
        "import numpy as np\n",
        "hwd = np.loadtxt(\"/content/drive/MyDrive/cwct_ml/lab2-hw.txt\", dtype=str)\n",
        "testd = np.loadtxt(\"/content/drive/MyDrive/cwct_ml/lab2-test.txt\", dtype=str)\n",
        "quizd = np.loadtxt(\"/content/drive/MyDrive/cwct_ml/lab2-quiz.txt\", dtype=str)\n",
        "projd = np.loadtxt(\"/content/drive/MyDrive/cwct_ml/lab2-project.txt\", dtype=str)"
      ],
      "metadata": {
        "id": "zrXk-tukx9z-"
      },
      "execution_count": 15,
      "outputs": []
    },
    {
      "cell_type": "code",
      "source": [
        "print(hwd)"
      ],
      "metadata": {
        "colab": {
          "base_uri": "https://localhost:8080/"
        },
        "id": "KOWCV2d_yAk1",
        "outputId": "32e83290-16be-44b9-8834-2aa1d1978ac2"
      },
      "execution_count": 20,
      "outputs": [
        {
          "output_type": "stream",
          "name": "stdout",
          "text": [
            "[['Name' 'hw1' 'hw2' 'hw3' 'hw4' 'hw5']\n",
            " ['A' '45' '46' '50' '39' '50']\n",
            " ['B' '35' '40' '41' '45' '40']\n",
            " ['C' '31' '38' '40' '29' '45']\n",
            " ['D' '40' '41' '42' '45' '41']\n",
            " ['E' '49' '47' '41' '39' '45']\n",
            " ['F' '30' '31' '38' '40' '39']]\n"
          ]
        }
      ]
    },
    {
      "cell_type": "code",
      "source": [
        "print(testd)"
      ],
      "metadata": {
        "colab": {
          "base_uri": "https://localhost:8080/"
        },
        "id": "yePcYaQQyBZM",
        "outputId": "353abd39-b9a6-4063-ce7f-237a44937305"
      },
      "execution_count": 21,
      "outputs": [
        {
          "output_type": "stream",
          "name": "stdout",
          "text": [
            "[['Name' 'test1' 'test2']\n",
            " ['A' '90' '98']\n",
            " ['B' '91' '89']\n",
            " ['C' '78' '88']\n",
            " ['D' '85' '90']\n",
            " ['E' '70' '79']\n",
            " ['F' '75' '85']]\n"
          ]
        }
      ]
    },
    {
      "cell_type": "code",
      "source": [
        "print(quizd)"
      ],
      "metadata": {
        "colab": {
          "base_uri": "https://localhost:8080/"
        },
        "id": "DnE597k40UQb",
        "outputId": "86febdb5-af27-4077-d81b-30c6f859ecc4"
      },
      "execution_count": 22,
      "outputs": [
        {
          "output_type": "stream",
          "name": "stdout",
          "text": [
            "[['Name' 'quiz1' 'quiz2' 'quiz3' 'quiz4' 'quiz5']\n",
            " ['A' '9' '8' '10' '10' '8']\n",
            " ['B' '9' '10' '8' '7' '10']\n",
            " ['C' '8' '8' '10' '7' '7']\n",
            " ['D' '8' '9' '10' '10' '10']\n",
            " ['E' '10' '9' '8' '7' '10']\n",
            " ['F' '7' '9' '7' '6' '9']]\n"
          ]
        }
      ]
    },
    {
      "cell_type": "code",
      "source": [
        "print(projd)"
      ],
      "metadata": {
        "colab": {
          "base_uri": "https://localhost:8080/"
        },
        "id": "OzZB3qe10YBq",
        "outputId": "f003f823-8918-4826-a828-72b3f8690cb9"
      },
      "execution_count": 23,
      "outputs": [
        {
          "output_type": "stream",
          "name": "stdout",
          "text": [
            "[['Name' 'project']\n",
            " ['A' '90']\n",
            " ['B' '95']\n",
            " ['C' '85']\n",
            " ['D' '71']\n",
            " ['E' '82']\n",
            " ['F' '70']]\n"
          ]
        }
      ]
    },
    {
      "cell_type": "code",
      "source": [
        "# Extract student names\n",
        "names = hwd[1:,0]\n",
        "\n",
        "# Convert scores to float arrays, skipping header row and name column\n",
        "hw_scores = hwd[1:, 1:].astype(float)\n",
        "test_scores = testd[1:, 1:].astype(float)\n",
        "quiz_scores = quizd[1:, 1:].astype(float)\n",
        "proj_scores = projd[1:, 1:].astype(float)\n",
        "\n",
        "# Normalize and compute averages\n",
        "hw_avg = np.mean(hw_scores / 50 * 100, axis=1)\n",
        "test_avg = np.mean(test_scores, axis=1)\n",
        "quiz_avg = np.mean(quiz_scores / 10 * 100, axis=1)\n",
        "proj = proj_scores.flatten()\n",
        "\n",
        "# Combine into grade matrix G\n",
        "G = np.column_stack((hw_avg, test_avg, quiz_avg, proj))\n",
        "\n",
        "# Weight matrix W\n",
        "W = np.array([0.3, 0.4, 0.1, 0.2])\n",
        "\n",
        "# Final grade calculation: G * W\n",
        "final_grades = G @ W\n",
        "\n",
        "# Output results\n",
        "for name, grade in zip(names, final_grades):\n",
        "    print(f\"{name}: {grade:.2f}\")"
      ],
      "metadata": {
        "colab": {
          "base_uri": "https://localhost:8080/"
        },
        "id": "Em_CipTd0ZCQ",
        "outputId": "65ed6f40-8364-4178-af2e-1ae59366b9f7"
      },
      "execution_count": 28,
      "outputs": [
        {
          "output_type": "stream",
          "name": "stdout",
          "text": [
            "A: 92.20\n",
            "B: 87.92\n",
            "C: 80.16\n",
            "D: 83.68\n",
            "E: 81.52\n",
            "F: 74.96\n"
          ]
        }
      ]
    },
    {
      "cell_type": "code",
      "source": [
        "import matplotlib.pyplot as plt\n",
        "import pandas as pd\n",
        "\n",
        "df = pd.read_pickle('/content/drive/MyDrive/cwct_ml/lab2-T2-data.pkl')\n"
      ],
      "metadata": {
        "id": "a09k7k1T0_Xk"
      },
      "execution_count": 30,
      "outputs": []
    },
    {
      "cell_type": "code",
      "source": [
        "df.head(3)"
      ],
      "metadata": {
        "colab": {
          "base_uri": "https://localhost:8080/",
          "height": 144
        },
        "id": "HTqFuED62I_w",
        "outputId": "2310beef-17ef-4e0f-849d-f7d325c1628b"
      },
      "execution_count": 31,
      "outputs": [
        {
          "output_type": "execute_result",
          "data": {
            "text/plain": [
              "                                               title subtitle series  \\\n",
              "0                                           \"13 1/2\"      NaN    NaN   \n",
              "1  \"The Secret Diary of Hendrik Groen, 83 1/2 Yea...      NaN    NaN   \n",
              "2                            18 and Life on Skid Row      NaN    NaN   \n",
              "\n",
              "            author my_rating avg_rating                 publisher    binding  \\\n",
              "0     Barr, Nevada       3.0        3.3            Vanguard Press  Hardcover   \n",
              "1   Groen, Hendrik       4.0       3.95  Grand Central Publishing  Hardcover   \n",
              "2  Bach, Sebastian       3.0       3.68          Dey Street Books  Hardcover   \n",
              "\n",
              "   pages year_published month_read  month_read_num  year_read bookshelf  \n",
              "0    320           2009        May               5       2011      read  \n",
              "1    384           2014     August               8       2017      read  \n",
              "2    433           2016      April               4       2020      read  "
            ],
            "text/html": [
              "\n",
              "  <div id=\"df-6435c4ad-23c4-42ef-ac9f-aa6a49ae4468\" class=\"colab-df-container\">\n",
              "    <div>\n",
              "<style scoped>\n",
              "    .dataframe tbody tr th:only-of-type {\n",
              "        vertical-align: middle;\n",
              "    }\n",
              "\n",
              "    .dataframe tbody tr th {\n",
              "        vertical-align: top;\n",
              "    }\n",
              "\n",
              "    .dataframe thead th {\n",
              "        text-align: right;\n",
              "    }\n",
              "</style>\n",
              "<table border=\"1\" class=\"dataframe\">\n",
              "  <thead>\n",
              "    <tr style=\"text-align: right;\">\n",
              "      <th></th>\n",
              "      <th>title</th>\n",
              "      <th>subtitle</th>\n",
              "      <th>series</th>\n",
              "      <th>author</th>\n",
              "      <th>my_rating</th>\n",
              "      <th>avg_rating</th>\n",
              "      <th>publisher</th>\n",
              "      <th>binding</th>\n",
              "      <th>pages</th>\n",
              "      <th>year_published</th>\n",
              "      <th>month_read</th>\n",
              "      <th>month_read_num</th>\n",
              "      <th>year_read</th>\n",
              "      <th>bookshelf</th>\n",
              "    </tr>\n",
              "  </thead>\n",
              "  <tbody>\n",
              "    <tr>\n",
              "      <th>0</th>\n",
              "      <td>\"13 1/2\"</td>\n",
              "      <td>NaN</td>\n",
              "      <td>NaN</td>\n",
              "      <td>Barr, Nevada</td>\n",
              "      <td>3.0</td>\n",
              "      <td>3.3</td>\n",
              "      <td>Vanguard Press</td>\n",
              "      <td>Hardcover</td>\n",
              "      <td>320</td>\n",
              "      <td>2009</td>\n",
              "      <td>May</td>\n",
              "      <td>5</td>\n",
              "      <td>2011</td>\n",
              "      <td>read</td>\n",
              "    </tr>\n",
              "    <tr>\n",
              "      <th>1</th>\n",
              "      <td>\"The Secret Diary of Hendrik Groen, 83 1/2 Yea...</td>\n",
              "      <td>NaN</td>\n",
              "      <td>NaN</td>\n",
              "      <td>Groen, Hendrik</td>\n",
              "      <td>4.0</td>\n",
              "      <td>3.95</td>\n",
              "      <td>Grand Central Publishing</td>\n",
              "      <td>Hardcover</td>\n",
              "      <td>384</td>\n",
              "      <td>2014</td>\n",
              "      <td>August</td>\n",
              "      <td>8</td>\n",
              "      <td>2017</td>\n",
              "      <td>read</td>\n",
              "    </tr>\n",
              "    <tr>\n",
              "      <th>2</th>\n",
              "      <td>18 and Life on Skid Row</td>\n",
              "      <td>NaN</td>\n",
              "      <td>NaN</td>\n",
              "      <td>Bach, Sebastian</td>\n",
              "      <td>3.0</td>\n",
              "      <td>3.68</td>\n",
              "      <td>Dey Street Books</td>\n",
              "      <td>Hardcover</td>\n",
              "      <td>433</td>\n",
              "      <td>2016</td>\n",
              "      <td>April</td>\n",
              "      <td>4</td>\n",
              "      <td>2020</td>\n",
              "      <td>read</td>\n",
              "    </tr>\n",
              "  </tbody>\n",
              "</table>\n",
              "</div>\n",
              "    <div class=\"colab-df-buttons\">\n",
              "\n",
              "  <div class=\"colab-df-container\">\n",
              "    <button class=\"colab-df-convert\" onclick=\"convertToInteractive('df-6435c4ad-23c4-42ef-ac9f-aa6a49ae4468')\"\n",
              "            title=\"Convert this dataframe to an interactive table.\"\n",
              "            style=\"display:none;\">\n",
              "\n",
              "  <svg xmlns=\"http://www.w3.org/2000/svg\" height=\"24px\" viewBox=\"0 -960 960 960\">\n",
              "    <path d=\"M120-120v-720h720v720H120Zm60-500h600v-160H180v160Zm220 220h160v-160H400v160Zm0 220h160v-160H400v160ZM180-400h160v-160H180v160Zm440 0h160v-160H620v160ZM180-180h160v-160H180v160Zm440 0h160v-160H620v160Z\"/>\n",
              "  </svg>\n",
              "    </button>\n",
              "\n",
              "  <style>\n",
              "    .colab-df-container {\n",
              "      display:flex;\n",
              "      gap: 12px;\n",
              "    }\n",
              "\n",
              "    .colab-df-convert {\n",
              "      background-color: #E8F0FE;\n",
              "      border: none;\n",
              "      border-radius: 50%;\n",
              "      cursor: pointer;\n",
              "      display: none;\n",
              "      fill: #1967D2;\n",
              "      height: 32px;\n",
              "      padding: 0 0 0 0;\n",
              "      width: 32px;\n",
              "    }\n",
              "\n",
              "    .colab-df-convert:hover {\n",
              "      background-color: #E2EBFA;\n",
              "      box-shadow: 0px 1px 2px rgba(60, 64, 67, 0.3), 0px 1px 3px 1px rgba(60, 64, 67, 0.15);\n",
              "      fill: #174EA6;\n",
              "    }\n",
              "\n",
              "    .colab-df-buttons div {\n",
              "      margin-bottom: 4px;\n",
              "    }\n",
              "\n",
              "    [theme=dark] .colab-df-convert {\n",
              "      background-color: #3B4455;\n",
              "      fill: #D2E3FC;\n",
              "    }\n",
              "\n",
              "    [theme=dark] .colab-df-convert:hover {\n",
              "      background-color: #434B5C;\n",
              "      box-shadow: 0px 1px 3px 1px rgba(0, 0, 0, 0.15);\n",
              "      filter: drop-shadow(0px 1px 2px rgba(0, 0, 0, 0.3));\n",
              "      fill: #FFFFFF;\n",
              "    }\n",
              "  </style>\n",
              "\n",
              "    <script>\n",
              "      const buttonEl =\n",
              "        document.querySelector('#df-6435c4ad-23c4-42ef-ac9f-aa6a49ae4468 button.colab-df-convert');\n",
              "      buttonEl.style.display =\n",
              "        google.colab.kernel.accessAllowed ? 'block' : 'none';\n",
              "\n",
              "      async function convertToInteractive(key) {\n",
              "        const element = document.querySelector('#df-6435c4ad-23c4-42ef-ac9f-aa6a49ae4468');\n",
              "        const dataTable =\n",
              "          await google.colab.kernel.invokeFunction('convertToInteractive',\n",
              "                                                    [key], {});\n",
              "        if (!dataTable) return;\n",
              "\n",
              "        const docLinkHtml = 'Like what you see? Visit the ' +\n",
              "          '<a target=\"_blank\" href=https://colab.research.google.com/notebooks/data_table.ipynb>data table notebook</a>'\n",
              "          + ' to learn more about interactive tables.';\n",
              "        element.innerHTML = '';\n",
              "        dataTable['output_type'] = 'display_data';\n",
              "        await google.colab.output.renderOutput(dataTable, element);\n",
              "        const docLink = document.createElement('div');\n",
              "        docLink.innerHTML = docLinkHtml;\n",
              "        element.appendChild(docLink);\n",
              "      }\n",
              "    </script>\n",
              "  </div>\n",
              "\n",
              "\n",
              "    <div id=\"df-693fef43-59bf-46bf-9c14-84cfcc1f2cd6\">\n",
              "      <button class=\"colab-df-quickchart\" onclick=\"quickchart('df-693fef43-59bf-46bf-9c14-84cfcc1f2cd6')\"\n",
              "                title=\"Suggest charts\"\n",
              "                style=\"display:none;\">\n",
              "\n",
              "<svg xmlns=\"http://www.w3.org/2000/svg\" height=\"24px\"viewBox=\"0 0 24 24\"\n",
              "     width=\"24px\">\n",
              "    <g>\n",
              "        <path d=\"M19 3H5c-1.1 0-2 .9-2 2v14c0 1.1.9 2 2 2h14c1.1 0 2-.9 2-2V5c0-1.1-.9-2-2-2zM9 17H7v-7h2v7zm4 0h-2V7h2v10zm4 0h-2v-4h2v4z\"/>\n",
              "    </g>\n",
              "</svg>\n",
              "      </button>\n",
              "\n",
              "<style>\n",
              "  .colab-df-quickchart {\n",
              "      --bg-color: #E8F0FE;\n",
              "      --fill-color: #1967D2;\n",
              "      --hover-bg-color: #E2EBFA;\n",
              "      --hover-fill-color: #174EA6;\n",
              "      --disabled-fill-color: #AAA;\n",
              "      --disabled-bg-color: #DDD;\n",
              "  }\n",
              "\n",
              "  [theme=dark] .colab-df-quickchart {\n",
              "      --bg-color: #3B4455;\n",
              "      --fill-color: #D2E3FC;\n",
              "      --hover-bg-color: #434B5C;\n",
              "      --hover-fill-color: #FFFFFF;\n",
              "      --disabled-bg-color: #3B4455;\n",
              "      --disabled-fill-color: #666;\n",
              "  }\n",
              "\n",
              "  .colab-df-quickchart {\n",
              "    background-color: var(--bg-color);\n",
              "    border: none;\n",
              "    border-radius: 50%;\n",
              "    cursor: pointer;\n",
              "    display: none;\n",
              "    fill: var(--fill-color);\n",
              "    height: 32px;\n",
              "    padding: 0;\n",
              "    width: 32px;\n",
              "  }\n",
              "\n",
              "  .colab-df-quickchart:hover {\n",
              "    background-color: var(--hover-bg-color);\n",
              "    box-shadow: 0 1px 2px rgba(60, 64, 67, 0.3), 0 1px 3px 1px rgba(60, 64, 67, 0.15);\n",
              "    fill: var(--button-hover-fill-color);\n",
              "  }\n",
              "\n",
              "  .colab-df-quickchart-complete:disabled,\n",
              "  .colab-df-quickchart-complete:disabled:hover {\n",
              "    background-color: var(--disabled-bg-color);\n",
              "    fill: var(--disabled-fill-color);\n",
              "    box-shadow: none;\n",
              "  }\n",
              "\n",
              "  .colab-df-spinner {\n",
              "    border: 2px solid var(--fill-color);\n",
              "    border-color: transparent;\n",
              "    border-bottom-color: var(--fill-color);\n",
              "    animation:\n",
              "      spin 1s steps(1) infinite;\n",
              "  }\n",
              "\n",
              "  @keyframes spin {\n",
              "    0% {\n",
              "      border-color: transparent;\n",
              "      border-bottom-color: var(--fill-color);\n",
              "      border-left-color: var(--fill-color);\n",
              "    }\n",
              "    20% {\n",
              "      border-color: transparent;\n",
              "      border-left-color: var(--fill-color);\n",
              "      border-top-color: var(--fill-color);\n",
              "    }\n",
              "    30% {\n",
              "      border-color: transparent;\n",
              "      border-left-color: var(--fill-color);\n",
              "      border-top-color: var(--fill-color);\n",
              "      border-right-color: var(--fill-color);\n",
              "    }\n",
              "    40% {\n",
              "      border-color: transparent;\n",
              "      border-right-color: var(--fill-color);\n",
              "      border-top-color: var(--fill-color);\n",
              "    }\n",
              "    60% {\n",
              "      border-color: transparent;\n",
              "      border-right-color: var(--fill-color);\n",
              "    }\n",
              "    80% {\n",
              "      border-color: transparent;\n",
              "      border-right-color: var(--fill-color);\n",
              "      border-bottom-color: var(--fill-color);\n",
              "    }\n",
              "    90% {\n",
              "      border-color: transparent;\n",
              "      border-bottom-color: var(--fill-color);\n",
              "    }\n",
              "  }\n",
              "</style>\n",
              "\n",
              "      <script>\n",
              "        async function quickchart(key) {\n",
              "          const quickchartButtonEl =\n",
              "            document.querySelector('#' + key + ' button');\n",
              "          quickchartButtonEl.disabled = true;  // To prevent multiple clicks.\n",
              "          quickchartButtonEl.classList.add('colab-df-spinner');\n",
              "          try {\n",
              "            const charts = await google.colab.kernel.invokeFunction(\n",
              "                'suggestCharts', [key], {});\n",
              "          } catch (error) {\n",
              "            console.error('Error during call to suggestCharts:', error);\n",
              "          }\n",
              "          quickchartButtonEl.classList.remove('colab-df-spinner');\n",
              "          quickchartButtonEl.classList.add('colab-df-quickchart-complete');\n",
              "        }\n",
              "        (() => {\n",
              "          let quickchartButtonEl =\n",
              "            document.querySelector('#df-693fef43-59bf-46bf-9c14-84cfcc1f2cd6 button');\n",
              "          quickchartButtonEl.style.display =\n",
              "            google.colab.kernel.accessAllowed ? 'block' : 'none';\n",
              "        })();\n",
              "      </script>\n",
              "    </div>\n",
              "\n",
              "    </div>\n",
              "  </div>\n"
            ],
            "application/vnd.google.colaboratory.intrinsic+json": {
              "type": "dataframe",
              "variable_name": "df",
              "summary": "{\n  \"name\": \"df\",\n  \"rows\": 671,\n  \"fields\": [\n    {\n      \"column\": \"title\",\n      \"properties\": {\n        \"dtype\": \"string\",\n        \"num_unique_values\": 652,\n        \"samples\": [\n          \"Without Remorse\",\n          \"More Twisted\",\n          \"Miss Wyoming\"\n        ],\n        \"semantic_type\": \"\",\n        \"description\": \"\"\n      }\n    },\n    {\n      \"column\": \"subtitle\",\n      \"properties\": {\n        \"dtype\": \"category\",\n        \"num_unique_values\": 205,\n        \"samples\": [\n          \"Selected Writings on Family, Animals, and Life from The Philadelphia Inquirer\",\n          \"Essays on Art\",\n          \"How a Pioneering Chef Helped Shape the Way We Eat Today\"\n        ],\n        \"semantic_type\": \"\",\n        \"description\": \"\"\n      }\n    },\n    {\n      \"column\": \"series\",\n      \"properties\": {\n        \"dtype\": \"category\",\n        \"num_unique_values\": 118,\n        \"samples\": [\n          \"Rogue Lawyer, #1\",\n          \"Detective Hannah McCabe, #1\",\n          \"Serena Jones Mystery, #1\"\n        ],\n        \"semantic_type\": \"\",\n        \"description\": \"\"\n      }\n    },\n    {\n      \"column\": \"author\",\n      \"properties\": {\n        \"dtype\": \"string\",\n        \"num_unique_values\": 477,\n        \"samples\": [\n          \"Buffett, Jimmy\",\n          \"Ziegesar, Cecily von\",\n          \"Richman, Alan\"\n        ],\n        \"semantic_type\": \"\",\n        \"description\": \"\"\n      }\n    },\n    {\n      \"column\": \"my_rating\",\n      \"properties\": {\n        \"dtype\": \"date\",\n        \"min\": 0.0,\n        \"max\": 5.0,\n        \"num_unique_values\": 6,\n        \"samples\": [\n          3.0,\n          4.0,\n          0.0\n        ],\n        \"semantic_type\": \"\",\n        \"description\": \"\"\n      }\n    },\n    {\n      \"column\": \"avg_rating\",\n      \"properties\": {\n        \"dtype\": \"date\",\n        \"min\": -3.93,\n        \"max\": 53.81,\n        \"num_unique_values\": 169,\n        \"samples\": [\n          4.33,\n          2.64,\n          4.41\n        ],\n        \"semantic_type\": \"\",\n        \"description\": \"\"\n      }\n    },\n    {\n      \"column\": \"publisher\",\n      \"properties\": {\n        \"dtype\": \"category\",\n        \"num_unique_values\": 214,\n        \"samples\": [\n          \"Revell\",\n          \"Avery\",\n          \"Thomas Nelson\"\n        ],\n        \"semantic_type\": \"\",\n        \"description\": \"\"\n      }\n    },\n    {\n      \"column\": \"binding\",\n      \"properties\": {\n        \"dtype\": \"category\",\n        \"num_unique_values\": 2,\n        \"samples\": [\n          \"Paperback\",\n          \"Hardcover\"\n        ],\n        \"semantic_type\": \"\",\n        \"description\": \"\"\n      }\n    },\n    {\n      \"column\": \"pages\",\n      \"properties\": {\n        \"dtype\": \"number\",\n        \"std\": 143,\n        \"min\": 4,\n        \"max\": 1177,\n        \"num_unique_values\": 287,\n        \"samples\": [\n          385,\n          515\n        ],\n        \"semantic_type\": \"\",\n        \"description\": \"\"\n      }\n    },\n    {\n      \"column\": \"year_published\",\n      \"properties\": {\n        \"dtype\": \"date\",\n        \"min\": -2012,\n        \"max\": 2020,\n        \"num_unique_values\": 67,\n        \"samples\": [\n          2019,\n          1989\n        ],\n        \"semantic_type\": \"\",\n        \"description\": \"\"\n      }\n    },\n    {\n      \"column\": \"month_read\",\n      \"properties\": {\n        \"dtype\": \"category\",\n        \"num_unique_values\": 12,\n        \"samples\": [\n          \"July\",\n          \"December\"\n        ],\n        \"semantic_type\": \"\",\n        \"description\": \"\"\n      }\n    },\n    {\n      \"column\": \"month_read_num\",\n      \"properties\": {\n        \"dtype\": \"number\",\n        \"std\": 3,\n        \"min\": 1,\n        \"max\": 12,\n        \"num_unique_values\": 12,\n        \"samples\": [\n          7,\n          12\n        ],\n        \"semantic_type\": \"\",\n        \"description\": \"\"\n      }\n    },\n    {\n      \"column\": \"year_read\",\n      \"properties\": {\n        \"dtype\": \"number\",\n        \"std\": 2,\n        \"min\": 2010,\n        \"max\": 2020,\n        \"num_unique_values\": 11,\n        \"samples\": [\n          2016,\n          2011\n        ],\n        \"semantic_type\": \"\",\n        \"description\": \"\"\n      }\n    },\n    {\n      \"column\": \"bookshelf\",\n      \"properties\": {\n        \"dtype\": \"category\",\n        \"num_unique_values\": 2,\n        \"samples\": [\n          \"quit-reading\",\n          \"read\"\n        ],\n        \"semantic_type\": \"\",\n        \"description\": \"\"\n      }\n    }\n  ]\n}"
            }
          },
          "metadata": {},
          "execution_count": 31
        }
      ]
    },
    {
      "cell_type": "code",
      "source": [
        "df.info()"
      ],
      "metadata": {
        "colab": {
          "base_uri": "https://localhost:8080/"
        },
        "id": "K3By9Kom2Rdx",
        "outputId": "75fd6e68-ca04-4c7b-a720-0ff9a59890f7"
      },
      "execution_count": 32,
      "outputs": [
        {
          "output_type": "stream",
          "name": "stdout",
          "text": [
            "<class 'pandas.core.frame.DataFrame'>\n",
            "RangeIndex: 671 entries, 0 to 670\n",
            "Data columns (total 14 columns):\n",
            " #   Column          Non-Null Count  Dtype \n",
            "---  ------          --------------  ----- \n",
            " 0   title           671 non-null    object\n",
            " 1   subtitle        218 non-null    object\n",
            " 2   series          122 non-null    object\n",
            " 3   author          671 non-null    object\n",
            " 4   my_rating       640 non-null    object\n",
            " 5   avg_rating      671 non-null    object\n",
            " 6   publisher       669 non-null    object\n",
            " 7   binding         671 non-null    object\n",
            " 8   pages           671 non-null    int64 \n",
            " 9   year_published  671 non-null    object\n",
            " 10  month_read      671 non-null    object\n",
            " 11  month_read_num  671 non-null    int64 \n",
            " 12  year_read       671 non-null    int64 \n",
            " 13  bookshelf       671 non-null    object\n",
            "dtypes: int64(3), object(11)\n",
            "memory usage: 73.5+ KB\n"
          ]
        }
      ]
    },
    {
      "cell_type": "code",
      "source": [
        "df.isnull().sum()"
      ],
      "metadata": {
        "colab": {
          "base_uri": "https://localhost:8080/",
          "height": 523
        },
        "id": "IJklRAzE2XJM",
        "outputId": "778d23bc-321d-4d90-a1cc-d3102a1d70b5"
      },
      "execution_count": 34,
      "outputs": [
        {
          "output_type": "execute_result",
          "data": {
            "text/plain": [
              "title               0\n",
              "subtitle          453\n",
              "series            549\n",
              "author              0\n",
              "my_rating          31\n",
              "avg_rating          0\n",
              "publisher           2\n",
              "binding             0\n",
              "pages               0\n",
              "year_published      0\n",
              "month_read          0\n",
              "month_read_num      0\n",
              "year_read           0\n",
              "bookshelf           0\n",
              "dtype: int64"
            ],
            "text/html": [
              "<div>\n",
              "<style scoped>\n",
              "    .dataframe tbody tr th:only-of-type {\n",
              "        vertical-align: middle;\n",
              "    }\n",
              "\n",
              "    .dataframe tbody tr th {\n",
              "        vertical-align: top;\n",
              "    }\n",
              "\n",
              "    .dataframe thead th {\n",
              "        text-align: right;\n",
              "    }\n",
              "</style>\n",
              "<table border=\"1\" class=\"dataframe\">\n",
              "  <thead>\n",
              "    <tr style=\"text-align: right;\">\n",
              "      <th></th>\n",
              "      <th>0</th>\n",
              "    </tr>\n",
              "  </thead>\n",
              "  <tbody>\n",
              "    <tr>\n",
              "      <th>title</th>\n",
              "      <td>0</td>\n",
              "    </tr>\n",
              "    <tr>\n",
              "      <th>subtitle</th>\n",
              "      <td>453</td>\n",
              "    </tr>\n",
              "    <tr>\n",
              "      <th>series</th>\n",
              "      <td>549</td>\n",
              "    </tr>\n",
              "    <tr>\n",
              "      <th>author</th>\n",
              "      <td>0</td>\n",
              "    </tr>\n",
              "    <tr>\n",
              "      <th>my_rating</th>\n",
              "      <td>31</td>\n",
              "    </tr>\n",
              "    <tr>\n",
              "      <th>avg_rating</th>\n",
              "      <td>0</td>\n",
              "    </tr>\n",
              "    <tr>\n",
              "      <th>publisher</th>\n",
              "      <td>2</td>\n",
              "    </tr>\n",
              "    <tr>\n",
              "      <th>binding</th>\n",
              "      <td>0</td>\n",
              "    </tr>\n",
              "    <tr>\n",
              "      <th>pages</th>\n",
              "      <td>0</td>\n",
              "    </tr>\n",
              "    <tr>\n",
              "      <th>year_published</th>\n",
              "      <td>0</td>\n",
              "    </tr>\n",
              "    <tr>\n",
              "      <th>month_read</th>\n",
              "      <td>0</td>\n",
              "    </tr>\n",
              "    <tr>\n",
              "      <th>month_read_num</th>\n",
              "      <td>0</td>\n",
              "    </tr>\n",
              "    <tr>\n",
              "      <th>year_read</th>\n",
              "      <td>0</td>\n",
              "    </tr>\n",
              "    <tr>\n",
              "      <th>bookshelf</th>\n",
              "      <td>0</td>\n",
              "    </tr>\n",
              "  </tbody>\n",
              "</table>\n",
              "</div><br><label><b>dtype:</b> int64</label>"
            ]
          },
          "metadata": {},
          "execution_count": 34
        }
      ]
    },
    {
      "cell_type": "code",
      "source": [
        "for column in df.columns:\n",
        "    missing_count = df[column].isna().sum()\n",
        "    print(f\"{column}: {missing_count} missing\")\n"
      ],
      "metadata": {
        "colab": {
          "base_uri": "https://localhost:8080/"
        },
        "id": "zdtodlcE2v81",
        "outputId": "93ee8150-7ce7-41d2-a7c2-8bc1b5e3d1f2"
      },
      "execution_count": 35,
      "outputs": [
        {
          "output_type": "stream",
          "name": "stdout",
          "text": [
            "title: 0 missing\n",
            "subtitle: 453 missing\n",
            "series: 549 missing\n",
            "author: 0 missing\n",
            "my_rating: 31 missing\n",
            "avg_rating: 0 missing\n",
            "publisher: 2 missing\n",
            "binding: 0 missing\n",
            "pages: 0 missing\n",
            "year_published: 0 missing\n",
            "month_read: 0 missing\n",
            "month_read_num: 0 missing\n",
            "year_read: 0 missing\n",
            "bookshelf: 0 missing\n"
          ]
        }
      ]
    },
    {
      "cell_type": "code",
      "source": [
        "# Drop rows where any of the critical columns are missing\n",
        "df_cleaned = df.dropna(subset=['my_rating', 'avg_rating', 'year_published'])\n",
        "\n",
        "# Optional: verify no missing values remain in those columns\n",
        "for col in ['my_rating', 'avg_rating', 'year_published']:\n",
        "    print(f\"{col}: {df_cleaned[col].isna().sum()} missing\")\n"
      ],
      "metadata": {
        "colab": {
          "base_uri": "https://localhost:8080/"
        },
        "id": "a1OHlCga3a2d",
        "outputId": "cfadcfdd-104d-4dd7-8a46-9d8240f96714"
      },
      "execution_count": 39,
      "outputs": [
        {
          "output_type": "stream",
          "name": "stdout",
          "text": [
            "my_rating: 0 missing\n",
            "avg_rating: 0 missing\n",
            "year_published: 0 missing\n"
          ]
        }
      ]
    },
    {
      "cell_type": "code",
      "source": [
        "df_cleaned.loc[:, 'my_rating'] = df_cleaned['my_rating'].astype(float)\n",
        "df_cleaned.loc[:, 'avg_rating'] = df_cleaned['avg_rating'].astype(float)\n",
        "df_cleaned.loc[:, 'year_published'] = df_cleaned['year_published'].astype(int)"
      ],
      "metadata": {
        "id": "3D7hZIo93tw3"
      },
      "execution_count": 41,
      "outputs": []
    },
    {
      "cell_type": "code",
      "source": [
        "for col in ['title', 'subtitle', 'series', 'publisher']:\n",
        "    df_cleaned.loc[:, col] = df_cleaned[col].fillna(\" \")\n"
      ],
      "metadata": {
        "id": "K2PtNmzC37Us"
      },
      "execution_count": 43,
      "outputs": []
    },
    {
      "cell_type": "code",
      "source": [
        "df_cleaned.isnull().sum()"
      ],
      "metadata": {
        "colab": {
          "base_uri": "https://localhost:8080/",
          "height": 523
        },
        "id": "ZgC3pTpI4OmL",
        "outputId": "eba7f690-7a65-4c84-ebe4-cbf00ce83074"
      },
      "execution_count": 45,
      "outputs": [
        {
          "output_type": "execute_result",
          "data": {
            "text/plain": [
              "title             0\n",
              "subtitle          0\n",
              "series            0\n",
              "author            0\n",
              "my_rating         0\n",
              "avg_rating        0\n",
              "publisher         0\n",
              "binding           0\n",
              "pages             0\n",
              "year_published    0\n",
              "month_read        0\n",
              "month_read_num    0\n",
              "year_read         0\n",
              "bookshelf         0\n",
              "dtype: int64"
            ],
            "text/html": [
              "<div>\n",
              "<style scoped>\n",
              "    .dataframe tbody tr th:only-of-type {\n",
              "        vertical-align: middle;\n",
              "    }\n",
              "\n",
              "    .dataframe tbody tr th {\n",
              "        vertical-align: top;\n",
              "    }\n",
              "\n",
              "    .dataframe thead th {\n",
              "        text-align: right;\n",
              "    }\n",
              "</style>\n",
              "<table border=\"1\" class=\"dataframe\">\n",
              "  <thead>\n",
              "    <tr style=\"text-align: right;\">\n",
              "      <th></th>\n",
              "      <th>0</th>\n",
              "    </tr>\n",
              "  </thead>\n",
              "  <tbody>\n",
              "    <tr>\n",
              "      <th>title</th>\n",
              "      <td>0</td>\n",
              "    </tr>\n",
              "    <tr>\n",
              "      <th>subtitle</th>\n",
              "      <td>0</td>\n",
              "    </tr>\n",
              "    <tr>\n",
              "      <th>series</th>\n",
              "      <td>0</td>\n",
              "    </tr>\n",
              "    <tr>\n",
              "      <th>author</th>\n",
              "      <td>0</td>\n",
              "    </tr>\n",
              "    <tr>\n",
              "      <th>my_rating</th>\n",
              "      <td>0</td>\n",
              "    </tr>\n",
              "    <tr>\n",
              "      <th>avg_rating</th>\n",
              "      <td>0</td>\n",
              "    </tr>\n",
              "    <tr>\n",
              "      <th>publisher</th>\n",
              "      <td>0</td>\n",
              "    </tr>\n",
              "    <tr>\n",
              "      <th>binding</th>\n",
              "      <td>0</td>\n",
              "    </tr>\n",
              "    <tr>\n",
              "      <th>pages</th>\n",
              "      <td>0</td>\n",
              "    </tr>\n",
              "    <tr>\n",
              "      <th>year_published</th>\n",
              "      <td>0</td>\n",
              "    </tr>\n",
              "    <tr>\n",
              "      <th>month_read</th>\n",
              "      <td>0</td>\n",
              "    </tr>\n",
              "    <tr>\n",
              "      <th>month_read_num</th>\n",
              "      <td>0</td>\n",
              "    </tr>\n",
              "    <tr>\n",
              "      <th>year_read</th>\n",
              "      <td>0</td>\n",
              "    </tr>\n",
              "    <tr>\n",
              "      <th>bookshelf</th>\n",
              "      <td>0</td>\n",
              "    </tr>\n",
              "  </tbody>\n",
              "</table>\n",
              "</div><br><label><b>dtype:</b> int64</label>"
            ]
          },
          "metadata": {},
          "execution_count": 45
        }
      ]
    },
    {
      "cell_type": "code",
      "source": [
        "# Remove rows with negative year_published or ratings out of [0, 5]\n",
        "df_cleaned = df_cleaned[\n",
        "    (df_cleaned['year_published'] >= 0) &\n",
        "    (df_cleaned['my_rating'].between(0, 5)) &\n",
        "    (df_cleaned['avg_rating'].between(0, 5))\n",
        "]\n"
      ],
      "metadata": {
        "id": "bHnizypL4YNF"
      },
      "execution_count": 46,
      "outputs": []
    },
    {
      "cell_type": "code",
      "source": [
        "df_cleaned.info()"
      ],
      "metadata": {
        "colab": {
          "base_uri": "https://localhost:8080/"
        },
        "id": "sENjpzUQ4kiN",
        "outputId": "21d4be97-456d-4187-cad7-b4137d5a14be"
      },
      "execution_count": 47,
      "outputs": [
        {
          "output_type": "stream",
          "name": "stdout",
          "text": [
            "<class 'pandas.core.frame.DataFrame'>\n",
            "Index: 622 entries, 0 to 670\n",
            "Data columns (total 14 columns):\n",
            " #   Column          Non-Null Count  Dtype  \n",
            "---  ------          --------------  -----  \n",
            " 0   title           622 non-null    object \n",
            " 1   subtitle        622 non-null    object \n",
            " 2   series          622 non-null    object \n",
            " 3   author          622 non-null    object \n",
            " 4   my_rating       622 non-null    float64\n",
            " 5   avg_rating      622 non-null    float64\n",
            " 6   publisher       622 non-null    object \n",
            " 7   binding         622 non-null    object \n",
            " 8   pages           622 non-null    int64  \n",
            " 9   year_published  622 non-null    int64  \n",
            " 10  month_read      622 non-null    object \n",
            " 11  month_read_num  622 non-null    int64  \n",
            " 12  year_read       622 non-null    int64  \n",
            " 13  bookshelf       622 non-null    object \n",
            "dtypes: float64(2), int64(4), object(8)\n",
            "memory usage: 72.9+ KB\n"
          ]
        }
      ]
    },
    {
      "cell_type": "code",
      "source": [
        "# Group by author and count the number of books\n",
        "group_author = df_cleaned.groupby('author')\n",
        "author_counts = group_author['author'].count()\n",
        "\n",
        "# Find the author with the most publications\n",
        "most_published_author = author_counts.idxmax()\n",
        "most_books = author_counts.max()\n",
        "\n",
        "print(f\"The author who published the most books is: {most_published_author} ({most_books} books)\")\n"
      ],
      "metadata": {
        "colab": {
          "base_uri": "https://localhost:8080/"
        },
        "id": "P2_BlWPj4nqH",
        "outputId": "d524b325-f066-4f32-889c-c46c9d082c67"
      },
      "execution_count": 48,
      "outputs": [
        {
          "output_type": "stream",
          "name": "stdout",
          "text": [
            "The author who published the most books is: Grisham, John (22 books)\n"
          ]
        }
      ]
    },
    {
      "cell_type": "code",
      "source": [
        "df_num = group_author['author'].count()\n",
        "max = 0\n",
        "max_author = ''\n",
        "for author in df_num.index:\n",
        "    if df_num[author] > max:\n",
        "        max = df_num[author]\n",
        "        max_author = author\n",
        "\n",
        "print(max_author, max)\n"
      ],
      "metadata": {
        "colab": {
          "base_uri": "https://localhost:8080/"
        },
        "id": "pKxugNOD42Ne",
        "outputId": "84b71662-8ba2-4b9d-b406-b33ef372b7e5"
      },
      "execution_count": 49,
      "outputs": [
        {
          "output_type": "stream",
          "name": "stdout",
          "text": [
            "Grisham, John 22\n"
          ]
        }
      ]
    },
    {
      "cell_type": "code",
      "source": [
        "for author, subset in df_cleaned.groupby('author'):\n",
        "    if author == max_author:\n",
        "        print(author)\n",
        "        for index, row in subset.iterrows():\n",
        "            print(row['title'], end=', ')\n",
        "            print(row['year_published'])"
      ],
      "metadata": {
        "colab": {
          "base_uri": "https://localhost:8080/"
        },
        "id": "6L3-REkN5De4",
        "outputId": "6218bf40-20e8-42dc-cc5d-73d9a42e0c80"
      },
      "execution_count": 52,
      "outputs": [
        {
          "output_type": "stream",
          "name": "stdout",
          "text": [
            "Grisham, John\n",
            "A Time to Kill, 1989\n",
            "Calico Joe, 2012\n",
            "Ford County, 2008\n",
            "Playing for Pizza, 2007\n",
            "Rogue Lawyer, 2015\n",
            "Sycamore Row, 2013\n",
            "The Associate, 2009\n",
            "The Brethren, 2000\n",
            "The Broker, 2005\n",
            "The Chamber, 1994\n",
            "The Confession, 2010\n",
            "The King of Torts, 2003\n",
            "The Last Juror, 2004\n",
            "The Litigators, 2011\n",
            "The Partner, 1997\n",
            "The Racketeer, 2012\n",
            "The Rooster Bar, 2018\n",
            "The Street Lawyer, 1998\n",
            "The Summons, 2002\n",
            "The Testament, 1999\n",
            "The Whistler, 2016\n",
            "Theodore Boone, 2010\n"
          ]
        }
      ]
    },
    {
      "cell_type": "code",
      "source": [],
      "metadata": {
        "id": "kz7tph-c5IhX"
      },
      "execution_count": null,
      "outputs": []
    }
  ]
}